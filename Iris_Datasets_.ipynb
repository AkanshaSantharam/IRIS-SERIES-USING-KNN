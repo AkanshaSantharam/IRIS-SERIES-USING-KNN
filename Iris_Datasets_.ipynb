{
  "nbformat": 4,
  "nbformat_minor": 0,
  "metadata": {
    "colab": {
      "name": "Iris Datasets .ipynb",
      "provenance": []
    },
    "kernelspec": {
      "name": "python3",
      "display_name": "Python 3"
    }
  },
  "cells": [
    {
      "cell_type": "markdown",
      "metadata": {
        "id": "1-KpJQTflLVZ"
      },
      "source": [
        "**Iris Series Using K-Nearest Neighbours**"
      ]
    },
    {
      "cell_type": "markdown",
      "metadata": {
        "id": "a3XSrNuCsW6M"
      },
      "source": [
        "# Importing Libraries:"
      ]
    },
    {
      "cell_type": "code",
      "metadata": {
        "id": "2H3mrKmvrxix"
      },
      "source": [
        "import pandas as pd\n",
        "import numpy as np"
      ],
      "execution_count": null,
      "outputs": []
    },
    {
      "cell_type": "markdown",
      "metadata": {
        "id": "CVLKTmkEsJrn"
      },
      "source": [
        "## Exploring the Data:\n",
        "The data we use is the Iris dataset. It is included in sckit-learn in the dataset module:"
      ]
    },
    {
      "cell_type": "code",
      "metadata": {
        "id": "3ero5AqYsQFJ"
      },
      "source": [
        "from sklearn.datasets import load_iris\n",
        "iris_dataset=load_iris()"
      ],
      "execution_count": null,
      "outputs": []
    },
    {
      "cell_type": "markdown",
      "metadata": {
        "id": "uPLHkEj-Z0nF"
      },
      "source": [
        "The iris object that is returned by load_iris contains key values:"
      ]
    },
    {
      "cell_type": "code",
      "metadata": {
        "colab": {
          "base_uri": "https://localhost:8080/"
        },
        "id": "YGdZdmwYtHEa",
        "outputId": "18fb6c4d-fb57-4763-e539-e3125ee179dc"
      },
      "source": [
        "print('Keys of iris_datsets: \\n{}'.format(iris_dataset.keys()))"
      ],
      "execution_count": null,
      "outputs": [
        {
          "output_type": "stream",
          "text": [
            "Keys of iris_datsets: \n",
            "dict_keys(['data', 'target', 'target_names', 'DESCR', 'feature_names', 'filename'])\n"
          ],
          "name": "stdout"
        }
      ]
    },
    {
      "cell_type": "markdown",
      "metadata": {
        "id": "1TfUJFm6aFU1"
      },
      "source": [
        "The value of the key DESCR is a short description of the dataset:"
      ]
    },
    {
      "cell_type": "code",
      "metadata": {
        "colab": {
          "base_uri": "https://localhost:8080/"
        },
        "id": "GaagthWqveth",
        "outputId": "b0859862-e73d-4627-b7b3-135bffb688d2"
      },
      "source": [
        "print(iris_dataset['DESCR'][:200] + \"\\n...\")"
      ],
      "execution_count": null,
      "outputs": [
        {
          "output_type": "stream",
          "text": [
            ".. _iris_dataset:\n",
            "\n",
            "Iris plants dataset\n",
            "--------------------\n",
            "\n",
            "**Data Set Characteristics:**\n",
            "\n",
            "    :Number of Instances: 150 (50 in each of three classes)\n",
            "    :Number of Attributes: 4 numeric, predictive\n",
            "...\n"
          ],
          "name": "stdout"
        }
      ]
    },
    {
      "cell_type": "markdown",
      "metadata": {
        "id": "-GPkK6c3azyx"
      },
      "source": [
        "The target names of the iris datasets:\n",
        "\n",
        "\n"
      ]
    },
    {
      "cell_type": "code",
      "metadata": {
        "colab": {
          "base_uri": "https://localhost:8080/"
        },
        "id": "29rd4tPcweok",
        "outputId": "23970c41-9dd5-464a-ff58-7c4cfd974c54"
      },
      "source": [
        "print('Target names:{}'.format(iris_dataset['target_names']))"
      ],
      "execution_count": null,
      "outputs": [
        {
          "output_type": "stream",
          "text": [
            "Target names:['setosa' 'versicolor' 'virginica']\n"
          ],
          "name": "stdout"
        }
      ]
    },
    {
      "cell_type": "markdown",
      "metadata": {
        "id": "TsHLK5q2a-uy"
      },
      "source": [
        "The feature names are:"
      ]
    },
    {
      "cell_type": "code",
      "metadata": {
        "colab": {
          "base_uri": "https://localhost:8080/"
        },
        "id": "mabnS4NMxPXh",
        "outputId": "5c191833-563e-449b-ae09-d770f5b5ee7a"
      },
      "source": [
        "print('Feature names: \\n{}'.format(iris_dataset['feature_names']))"
      ],
      "execution_count": null,
      "outputs": [
        {
          "output_type": "stream",
          "text": [
            "Feature names: \n",
            "['sepal length (cm)', 'sepal width (cm)', 'petal length (cm)', 'petal width (cm)']\n"
          ],
          "name": "stdout"
        }
      ]
    },
    {
      "cell_type": "markdown",
      "metadata": {
        "id": "zA20DfjRbRav"
      },
      "source": [
        "The data contains numeric measurements of sepal length, sepal width, petal length and petal width:"
      ]
    },
    {
      "cell_type": "code",
      "metadata": {
        "colab": {
          "base_uri": "https://localhost:8080/"
        },
        "id": "FXAK-3QPx2k9",
        "outputId": "bfe02069-b818-4c2c-edfc-9517503d4a2a"
      },
      "source": [
        "print('Type of data: {}'.format(type(iris_dataset['data'])))"
      ],
      "execution_count": null,
      "outputs": [
        {
          "output_type": "stream",
          "text": [
            "Type of data: <class 'numpy.ndarray'>\n"
          ],
          "name": "stdout"
        }
      ]
    },
    {
      "cell_type": "markdown",
      "metadata": {
        "id": "75UnSgBgckZj"
      },
      "source": [
        "The rows represent the data array correspond to flowers, while the columns represent the four measurements that were for each flower:"
      ]
    },
    {
      "cell_type": "code",
      "metadata": {
        "colab": {
          "base_uri": "https://localhost:8080/"
        },
        "id": "I6Ax9Ac4yLcu",
        "outputId": "60571264-2f7e-4181-e39b-e7d04d0658bc"
      },
      "source": [
        "print('Shape of data: {}'.format(iris_dataset['data'].shape))"
      ],
      "execution_count": null,
      "outputs": [
        {
          "output_type": "stream",
          "text": [
            "Shape of data: (150, 4)\n"
          ],
          "name": "stdout"
        }
      ]
    },
    {
      "cell_type": "markdown",
      "metadata": {
        "id": "QK_OW7-edXR0"
      },
      "source": [
        "We see that there are 150 flowers. We have 150 data points and 4 features:"
      ]
    },
    {
      "cell_type": "code",
      "metadata": {
        "colab": {
          "base_uri": "https://localhost:8080/"
        },
        "id": "x9pk2NQJyjF7",
        "outputId": "6f3bf2c4-dc6a-487e-9a4f-57824507dd36"
      },
      "source": [
        "print('First five rows of data:\\n{}'.format(iris_dataset['data'][:5]))"
      ],
      "execution_count": null,
      "outputs": [
        {
          "output_type": "stream",
          "text": [
            "First five rows of data:\n",
            "[[5.1 3.5 1.4 0.2]\n",
            " [4.9 3.  1.4 0.2]\n",
            " [4.7 3.2 1.3 0.2]\n",
            " [4.6 3.1 1.5 0.2]\n",
            " [5.  3.6 1.4 0.2]]\n"
          ],
          "name": "stdout"
        }
      ]
    },
    {
      "cell_type": "code",
      "metadata": {
        "colab": {
          "base_uri": "https://localhost:8080/"
        },
        "id": "jBiqMMnFzF5R",
        "outputId": "83ff0612-2975-4401-92a0-247d617960e3"
      },
      "source": [
        "print('Types of data: {}'.format(type(iris_dataset['target'])))"
      ],
      "execution_count": null,
      "outputs": [
        {
          "output_type": "stream",
          "text": [
            "Types of data: <class 'numpy.ndarray'>\n"
          ],
          "name": "stdout"
        }
      ]
    },
    {
      "cell_type": "markdown",
      "metadata": {
        "id": "hZCO7dX3d8jD"
      },
      "source": [
        "Target is a one-dimensional array, and on seeing the shape we can see that it contains one entry per flower:"
      ]
    },
    {
      "cell_type": "code",
      "metadata": {
        "colab": {
          "base_uri": "https://localhost:8080/"
        },
        "id": "U_EfJfml0PqD",
        "outputId": "af64ace9-57d6-40c0-a1f7-170388f0d6ad"
      },
      "source": [
        "print('Shape of target: {}'.format(iris_dataset['target'].shape))"
      ],
      "execution_count": null,
      "outputs": [
        {
          "output_type": "stream",
          "text": [
            "Shape of target: (150,)\n"
          ],
          "name": "stdout"
        }
      ]
    },
    {
      "cell_type": "markdown",
      "metadata": {
        "id": "H6SwH92feilO"
      },
      "source": [
        "On seeing the target key and exploring the values we can easily see that the species are encoded as integers from 0,1,2:"
      ]
    },
    {
      "cell_type": "code",
      "metadata": {
        "colab": {
          "base_uri": "https://localhost:8080/"
        },
        "id": "sGC4BzbE0csj",
        "outputId": "38c6c56d-1a87-4397-f1c3-286f89bf7ed4"
      },
      "source": [
        "print('target:\\n{}'.format(iris_dataset['target']))"
      ],
      "execution_count": null,
      "outputs": [
        {
          "output_type": "stream",
          "text": [
            "target:\n",
            "[0 0 0 0 0 0 0 0 0 0 0 0 0 0 0 0 0 0 0 0 0 0 0 0 0 0 0 0 0 0 0 0 0 0 0 0 0\n",
            " 0 0 0 0 0 0 0 0 0 0 0 0 0 1 1 1 1 1 1 1 1 1 1 1 1 1 1 1 1 1 1 1 1 1 1 1 1\n",
            " 1 1 1 1 1 1 1 1 1 1 1 1 1 1 1 1 1 1 1 1 1 1 1 1 1 1 2 2 2 2 2 2 2 2 2 2 2\n",
            " 2 2 2 2 2 2 2 2 2 2 2 2 2 2 2 2 2 2 2 2 2 2 2 2 2 2 2 2 2 2 2 2 2 2 2 2 2\n",
            " 2 2]\n"
          ],
          "name": "stdout"
        }
      ]
    },
    {
      "cell_type": "markdown",
      "metadata": {
        "id": "6fnF5m5fe-Bz"
      },
      "source": [
        "# Measuring Sucess: Training and Testing Data:"
      ]
    },
    {
      "cell_type": "markdown",
      "metadata": {
        "id": "CPicbZHpfG_P"
      },
      "source": [
        "Here we split the data we have collected into two parts, one for building our ml model, and is called the training set or training data. The rest of the data will be used to access how well the model works, that is called the test data, test set or hold-out set:"
      ]
    },
    {
      "cell_type": "code",
      "metadata": {
        "id": "Zi3iiERt8q4M"
      },
      "source": [
        "from sklearn.model_selection import train_test_split\n",
        "X_train, X_test, y_train, y_test=train_test_split(\n",
        "    iris_dataset['data'], iris_dataset['target'], random_state=0)"
      ],
      "execution_count": null,
      "outputs": []
    },
    {
      "cell_type": "markdown",
      "metadata": {
        "id": "P_9ORgv6gC21"
      },
      "source": [
        "The output of the train_test_split function is X_train, y_train, X_test, y_test which are all NumPy arrays. X_train contains 75% of the rows of the datset nd X_test contains the remaining 25%:"
      ]
    },
    {
      "cell_type": "code",
      "metadata": {
        "colab": {
          "base_uri": "https://localhost:8080/"
        },
        "id": "RCg_rlUqCLm7",
        "outputId": "409f7dae-91e4-46ba-e701-74ad25257110"
      },
      "source": [
        "print(\"X_train shape{}\".format(X_train.shape))\n",
        "print(\"y_train shape{}\".format(y_train.shape))\n",
        "print(\"X_test shape{}\".format(X_test.shape))\n",
        "print(\"y_train shape{}\".format(y_test.shape))"
      ],
      "execution_count": null,
      "outputs": [
        {
          "output_type": "stream",
          "text": [
            "X_train shape(112, 4)\n",
            "y_train shape(112,)\n",
            "X_test shape(38, 4)\n",
            "y_train shape(38,)\n"
          ],
          "name": "stdout"
        }
      ]
    },
    {
      "cell_type": "markdown",
      "metadata": {
        "id": "QwizzvfKh28t"
      },
      "source": [
        "Here this algorithm is implemented in the KNeighborsClassifier class from the neigbors module:"
      ]
    },
    {
      "cell_type": "code",
      "metadata": {
        "id": "zLVr-ze1TP5Q"
      },
      "source": [
        "from sklearn.neighbors import KNeighborsClassifier\n",
        "knn = KNeighborsClassifier(n_neighbors=1)"
      ],
      "execution_count": null,
      "outputs": []
    },
    {
      "cell_type": "markdown",
      "metadata": {
        "id": "iaeUmNigiDyC"
      },
      "source": [
        "To build the model on the training set, we call the fit method:"
      ]
    },
    {
      "cell_type": "code",
      "metadata": {
        "colab": {
          "base_uri": "https://localhost:8080/"
        },
        "id": "pNXKhTZwT-VD",
        "outputId": "dc3442a8-b995-4c7f-e6fe-545ad7df32c2"
      },
      "source": [
        "knn.fit(X_train,y_train)"
      ],
      "execution_count": null,
      "outputs": [
        {
          "output_type": "execute_result",
          "data": {
            "text/plain": [
              "KNeighborsClassifier(algorithm='auto', leaf_size=30, metric='minkowski',\n",
              "                     metric_params=None, n_jobs=None, n_neighbors=1, p=2,\n",
              "                     weights='uniform')"
            ]
          },
          "metadata": {
            "tags": []
          },
          "execution_count": 16
        }
      ]
    },
    {
      "cell_type": "markdown",
      "metadata": {
        "id": "xPTf8qF4jVaO"
      },
      "source": [
        "# Making Predictions:"
      ]
    },
    {
      "cell_type": "markdown",
      "metadata": {
        "id": "29hgHq6zisOW"
      },
      "source": [
        "These are the imagined length and width of an iris sepal and petal. We can put this data into NumPy array, by calculating the shape:\n",
        "\n"
      ]
    },
    {
      "cell_type": "code",
      "metadata": {
        "colab": {
          "base_uri": "https://localhost:8080/"
        },
        "id": "x_0wagabCenM",
        "outputId": "cc34a7ca-31e9-4be4-861a-e57c328e0e94"
      },
      "source": [
        "X_new=np.array([[5,2.9,1,0.2]])\n",
        "print(\"X_new.shape: {}\".format(X_new.shape))"
      ],
      "execution_count": null,
      "outputs": [
        {
          "output_type": "stream",
          "text": [
            "X_new.shape: (1, 4)\n"
          ],
          "name": "stdout"
        }
      ]
    },
    {
      "cell_type": "markdown",
      "metadata": {
        "id": "l25u00EWjrhk"
      },
      "source": [
        "To make the prediction we call the predict method of knn object:"
      ]
    },
    {
      "cell_type": "code",
      "metadata": {
        "colab": {
          "base_uri": "https://localhost:8080/"
        },
        "id": "9k41cI0PM1Zd",
        "outputId": "1e55554b-87f3-46dc-f37d-ef34922031f4"
      },
      "source": [
        "prediction=knn.predict(X_new)\n",
        "print(\"prediction: {}\".format(prediction))\n",
        "print(\"predicted target name: {}\".format(\n",
        "    iris_dataset['target_names'][prediction]))"
      ],
      "execution_count": null,
      "outputs": [
        {
          "output_type": "stream",
          "text": [
            "prediction: [0]\n",
            "predicted target name: ['setosa']\n"
          ],
          "name": "stdout"
        }
      ]
    },
    {
      "cell_type": "markdown",
      "metadata": {
        "id": "YgiGRl0ikTxl"
      },
      "source": [
        "#Evaluating the Model:\n",
        "We can make prediction for each iris in the test data and compare it against the the known species label. We can measure how well the model works by computing the accuracy:"
      ]
    },
    {
      "cell_type": "code",
      "metadata": {
        "colab": {
          "base_uri": "https://localhost:8080/"
        },
        "id": "vB1IqbhsXD0W",
        "outputId": "16015253-3315-4e98-f272-98e84d5bf06c"
      },
      "source": [
        " y_pred=knn.predict(X_test)\n",
        " print(\"Test set predictions:\\n {}\".format(y_pred))"
      ],
      "execution_count": null,
      "outputs": [
        {
          "output_type": "stream",
          "text": [
            "Test set predictions:\n",
            " [2 1 0 2 0 2 0 1 1 1 2 1 1 1 1 0 1 1 0 0 2 1 0 0 2 0 0 1 1 0 2 1 0 2 2 1 0\n",
            " 2]\n"
          ],
          "name": "stdout"
        }
      ]
    },
    {
      "cell_type": "code",
      "metadata": {
        "colab": {
          "base_uri": "https://localhost:8080/"
        },
        "id": "QoPa7N2xX6fz",
        "outputId": "89c20bd8-ac22-4e7d-a11f-e461245a8d00"
      },
      "source": [
        "print(\"Test set score : {}\".format(np.mean(y_pred==y_test)))"
      ],
      "execution_count": null,
      "outputs": [
        {
          "output_type": "stream",
          "text": [
            "Test set score : 0.9736842105263158\n"
          ],
          "name": "stdout"
        }
      ]
    }
  ]
}